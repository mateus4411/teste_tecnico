{
 "cells": [
  {
   "cell_type": "code",
   "execution_count": 2,
   "id": "41931773",
   "metadata": {},
   "outputs": [],
   "source": [
    "import pandas as pd\n",
    "import numpy as np\n",
    "import matplotlib.pyplot as plt\n",
    "import seaborn as sns\n",
    "import sys\n",
    "import os\n",
    "import joblib"
   ]
  },
  {
   "cell_type": "code",
   "execution_count": 3,
   "id": "d765c0fa",
   "metadata": {},
   "outputs": [],
   "source": [
    "# Adiciona a pasta src no path\n",
    "sys.path.append(os.path.abspath('../src'))\n"
   ]
  },
  {
   "cell_type": "code",
   "execution_count": 4,
   "id": "91dd9ba4",
   "metadata": {},
   "outputs": [],
   "source": [
    "from model import load_data, prepare_data, train_model, evaluate_model\n"
   ]
  },
  {
   "cell_type": "code",
   "execution_count": 5,
   "id": "15e03dea",
   "metadata": {},
   "outputs": [
    {
     "data": {
      "text/html": [
       "<div>\n",
       "<style scoped>\n",
       "    .dataframe tbody tr th:only-of-type {\n",
       "        vertical-align: middle;\n",
       "    }\n",
       "\n",
       "    .dataframe tbody tr th {\n",
       "        vertical-align: top;\n",
       "    }\n",
       "\n",
       "    .dataframe thead th {\n",
       "        text-align: right;\n",
       "    }\n",
       "</style>\n",
       "<table border=\"1\" class=\"dataframe\">\n",
       "  <thead>\n",
       "    <tr style=\"text-align: right;\">\n",
       "      <th></th>\n",
       "      <th>order_id</th>\n",
       "      <th>customer_id</th>\n",
       "      <th>order_date</th>\n",
       "      <th>order_value</th>\n",
       "      <th>category</th>\n",
       "      <th>bought_again_90d</th>\n",
       "      <th>order_month</th>\n",
       "      <th>weekday</th>\n",
       "      <th>order_value_avg</th>\n",
       "      <th>total_gasto_cliente</th>\n",
       "      <th>total_pedidos_cliente</th>\n",
       "      <th>diff_days</th>\n",
       "      <th>freq_media_dias_cliente</th>\n",
       "      <th>num_categorias_cliente</th>\n",
       "    </tr>\n",
       "  </thead>\n",
       "  <tbody>\n",
       "    <tr>\n",
       "      <th>0</th>\n",
       "      <td>928</td>\n",
       "      <td>1</td>\n",
       "      <td>2023-03-28</td>\n",
       "      <td>124.88</td>\n",
       "      <td>Fashion</td>\n",
       "      <td>0</td>\n",
       "      <td>3</td>\n",
       "      <td>Tuesday</td>\n",
       "      <td>224.0275</td>\n",
       "      <td>1792.22</td>\n",
       "      <td>8</td>\n",
       "      <td>NaN</td>\n",
       "      <td>89.571429</td>\n",
       "      <td>5</td>\n",
       "    </tr>\n",
       "    <tr>\n",
       "      <th>1</th>\n",
       "      <td>138</td>\n",
       "      <td>1</td>\n",
       "      <td>2023-06-28</td>\n",
       "      <td>363.44</td>\n",
       "      <td>Home</td>\n",
       "      <td>0</td>\n",
       "      <td>6</td>\n",
       "      <td>Wednesday</td>\n",
       "      <td>224.0275</td>\n",
       "      <td>1792.22</td>\n",
       "      <td>8</td>\n",
       "      <td>92.0</td>\n",
       "      <td>89.571429</td>\n",
       "      <td>5</td>\n",
       "    </tr>\n",
       "    <tr>\n",
       "      <th>2</th>\n",
       "      <td>742</td>\n",
       "      <td>1</td>\n",
       "      <td>2023-08-10</td>\n",
       "      <td>170.32</td>\n",
       "      <td>Electronics</td>\n",
       "      <td>1</td>\n",
       "      <td>8</td>\n",
       "      <td>Thursday</td>\n",
       "      <td>224.0275</td>\n",
       "      <td>1792.22</td>\n",
       "      <td>8</td>\n",
       "      <td>43.0</td>\n",
       "      <td>89.571429</td>\n",
       "      <td>5</td>\n",
       "    </tr>\n",
       "    <tr>\n",
       "      <th>3</th>\n",
       "      <td>491</td>\n",
       "      <td>1</td>\n",
       "      <td>2024-01-09</td>\n",
       "      <td>149.28</td>\n",
       "      <td>Electronics</td>\n",
       "      <td>0</td>\n",
       "      <td>1</td>\n",
       "      <td>Tuesday</td>\n",
       "      <td>224.0275</td>\n",
       "      <td>1792.22</td>\n",
       "      <td>8</td>\n",
       "      <td>152.0</td>\n",
       "      <td>89.571429</td>\n",
       "      <td>5</td>\n",
       "    </tr>\n",
       "    <tr>\n",
       "      <th>4</th>\n",
       "      <td>826</td>\n",
       "      <td>1</td>\n",
       "      <td>2024-01-22</td>\n",
       "      <td>218.13</td>\n",
       "      <td>Electronics</td>\n",
       "      <td>0</td>\n",
       "      <td>1</td>\n",
       "      <td>Monday</td>\n",
       "      <td>224.0275</td>\n",
       "      <td>1792.22</td>\n",
       "      <td>8</td>\n",
       "      <td>13.0</td>\n",
       "      <td>89.571429</td>\n",
       "      <td>5</td>\n",
       "    </tr>\n",
       "  </tbody>\n",
       "</table>\n",
       "</div>"
      ],
      "text/plain": [
       "   order_id  customer_id  order_date  order_value     category  \\\n",
       "0       928            1  2023-03-28       124.88      Fashion   \n",
       "1       138            1  2023-06-28       363.44         Home   \n",
       "2       742            1  2023-08-10       170.32  Electronics   \n",
       "3       491            1  2024-01-09       149.28  Electronics   \n",
       "4       826            1  2024-01-22       218.13  Electronics   \n",
       "\n",
       "   bought_again_90d  order_month    weekday  order_value_avg  \\\n",
       "0                 0            3    Tuesday         224.0275   \n",
       "1                 0            6  Wednesday         224.0275   \n",
       "2                 1            8   Thursday         224.0275   \n",
       "3                 0            1    Tuesday         224.0275   \n",
       "4                 0            1     Monday         224.0275   \n",
       "\n",
       "   total_gasto_cliente  total_pedidos_cliente  diff_days  \\\n",
       "0              1792.22                      8        NaN   \n",
       "1              1792.22                      8       92.0   \n",
       "2              1792.22                      8       43.0   \n",
       "3              1792.22                      8      152.0   \n",
       "4              1792.22                      8       13.0   \n",
       "\n",
       "   freq_media_dias_cliente  num_categorias_cliente  \n",
       "0                89.571429                       5  \n",
       "1                89.571429                       5  \n",
       "2                89.571429                       5  \n",
       "3                89.571429                       5  \n",
       "4                89.571429                       5  "
      ]
     },
     "execution_count": 5,
     "metadata": {},
     "output_type": "execute_result"
    }
   ],
   "source": [
    "# Carrega os dados usando a função que você fez\n",
    "df = pd.read_csv('../data/clientes_com_features.csv')\n",
    "\n",
    "df.head()\n"
   ]
  },
  {
   "cell_type": "code",
   "execution_count": 6,
   "id": "6095484c",
   "metadata": {},
   "outputs": [],
   "source": [
    "X_train, X_test, y_train, y_test = prepare_data(df)\n"
   ]
  },
  {
   "cell_type": "code",
   "execution_count": 7,
   "id": "a5fc3685",
   "metadata": {},
   "outputs": [],
   "source": [
    "model = train_model(X_train, y_train)\n"
   ]
  },
  {
   "cell_type": "code",
   "execution_count": 11,
   "id": "cddc9a32",
   "metadata": {},
   "outputs": [
    {
     "name": "stdout",
     "output_type": "stream",
     "text": [
      "Acurácia: 0.7167\n"
     ]
    },
    {
     "data": {
      "text/plain": [
       "0.7166666666666667"
      ]
     },
     "execution_count": 11,
     "metadata": {},
     "output_type": "execute_result"
    }
   ],
   "source": [
    "evaluate_model(model, X_test, y_test)"
   ]
  },
  {
   "cell_type": "code",
   "execution_count": 8,
   "id": "2ac275d0",
   "metadata": {},
   "outputs": [
    {
     "name": "stdout",
     "output_type": "stream",
     "text": [
      "Modelo salvo em artefatos/modelo.pkl\n"
     ]
    }
   ],
   "source": [
    "# Salva o modelo na pasta artefatos\n",
    "import os\n",
    "os.makedirs('artefatos', exist_ok=True)\n",
    "joblib.dump(model, 'artefatos/modelo.pkl')\n",
    "\n",
    "print('Modelo salvo em artefatos/modelo.pkl')"
   ]
  },
  {
   "cell_type": "code",
   "execution_count": null,
   "id": "10a0408e",
   "metadata": {},
   "outputs": [],
   "source": []
  }
 ],
 "metadata": {
  "kernelspec": {
   "display_name": "Python 3",
   "language": "python",
   "name": "python3"
  },
  "language_info": {
   "codemirror_mode": {
    "name": "ipython",
    "version": 3
   },
   "file_extension": ".py",
   "mimetype": "text/x-python",
   "name": "python",
   "nbconvert_exporter": "python",
   "pygments_lexer": "ipython3",
   "version": "3.11.3"
  }
 },
 "nbformat": 4,
 "nbformat_minor": 5
}
